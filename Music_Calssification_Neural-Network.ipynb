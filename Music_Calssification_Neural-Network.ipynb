{
 "cells": [
  {
   "cell_type": "markdown",
   "metadata": {},
   "source": [
    "# Lab 6:  Neural Networks for Music Classification\n",
    "\n",
    "In addition to the concepts in the [MNIST neural network demo](./mnist_neural.ipynb), in this lab, you will learn to:\n",
    "* Load a file from a URL\n",
    "* Extract simple features from audio samples for machine learning tasks such as speech recognition and classification\n",
    "* Build a simple neural network for music classification using these features\n",
    "* Use a callback to store the loss and accuracy history in the training process\n",
    "* Optimize the learning rate of the neural network\n",
    "\n",
    "To illustrate the basic concepts, we will look at a relatively simple music classification problem.  Given a sample of music, we want to determine which instrument (e.g. trumpet, violin, piano) is playing.  This dataset was generously supplied by [Prof. Juan Bello](http://steinhardt.nyu.edu/faculty/Juan_Pablo_Bello) at NYU Stenihardt  and his former PhD student Eric Humphrey (now at Spotify).  They have a complete website dedicated to deep learning methods in music informatics:\n",
    "\n",
    "http://marl.smusic.nyu.edu/wordpress/projects/feature-learning-deep-architectures/deep-learning-python-tutorial/\n",
    "\n",
    "You can also check out Juan's <a href=\"http://www.nyu.edu/classes/bello/ACA.html\">course</a>.\n",
    "\n"
   ]
  },
  {
   "cell_type": "markdown",
   "metadata": {},
   "source": [
    "# Mahmoud Khorshed @2022 Copyrights"
   ]
  },
  {
   "cell_type": "markdown",
   "metadata": {},
   "source": [
    "## Loading the Keras package\n",
    "We begin by loading keras and the other packages"
   ]
  },
  {
   "cell_type": "code",
   "execution_count": 24,
   "metadata": {},
   "outputs": [],
   "source": [
    "import keras"
   ]
  },
  {
   "cell_type": "code",
   "execution_count": 25,
   "metadata": {},
   "outputs": [],
   "source": [
    "import numpy as np\n",
    "import matplotlib\n",
    "import matplotlib.pyplot as plt\n",
    "%matplotlib inline"
   ]
  },
  {
   "cell_type": "markdown",
   "metadata": {},
   "source": [
    "## Audio Feature Extraction with Librosa\n",
    "\n",
    "The key to audio classification is to extract the correct features. In addition to `keras`, we will need the `librosa` package.  The `librosa` package in python has a rich set of methods extracting the features of audio samples commonly used in machine learning tasks such as speech recognition and sound classification. \n",
    "\n",
    "Installation instructions and complete documentation for the package are given on the [librosa main page](https://librosa.github.io/librosa/).  On most systems, you should be able to simply use:\n",
    "\n",
    "    pip install -u librosa\n",
    "    \n",
    "For Unix, you may need to load some additional packages:\n",
    "\n",
    "    sudo apt-get install build-essential\n",
    "    sudo apt-get install libxext-dev python-qt4 qt4-dev-tools\n",
    "    pip install librosa\n",
    "    \n",
    "After you have installed the package, try to import it."
   ]
  },
  {
   "cell_type": "code",
   "execution_count": 26,
   "metadata": {},
   "outputs": [],
   "source": [
    "# !pip install -u librosa"
   ]
  },
  {
   "cell_type": "code",
   "execution_count": 27,
   "metadata": {},
   "outputs": [],
   "source": [
    "import librosa\n",
    "import librosa.display\n",
    "import librosa.feature"
   ]
  },
  {
   "cell_type": "markdown",
   "metadata": {},
   "source": [
    "In this lab, we will use a set of music samples from the website:\n",
    "\n",
    "http://theremin.music.uiowa.edu\n",
    "\n",
    "This website has a great set of samples for audio processing.  Look on the web for how to use the `requests.get` and `file.write` commands to load the file at the URL provided into your working directory.\n",
    "\n",
    "You can play the audio sample by copying the file to your local machine and playing it on any media player.  If you listen to it you will hear a soprano saxaphone (with vibrato) playing four notes (C, C#, D, Eb)."
   ]
  },
  {
   "cell_type": "code",
   "execution_count": 28,
   "metadata": {},
   "outputs": [],
   "source": [
    "import requests\n",
    "func = \"SopSax.Vib.pp.C6Eb6.aiff\"\n",
    "url = \"http://theremin.music.uiowa.edu/sound files/MIS/Woodwinds/sopranosaxophone/\"+func\n",
    "\n",
    "# TODO:  Load the file from url and save it in a file under the name fn\n",
    "#openwith\n",
    "req=requests.get(url)\n",
    "with open (func,\"wb\") as file:\n",
    "    file.write(req.content)"
   ]
  },
  {
   "cell_type": "markdown",
   "metadata": {},
   "source": [
    "Next, use `librosa` command `librosa.load` to read the audio file with filename `fn` and get the samples `y` and sample rate `sr`."
   ]
  },
  {
   "cell_type": "code",
   "execution_count": 29,
   "metadata": {},
   "outputs": [],
   "source": [
    "# TODO\n",
    "y, sr = librosa.load(func)\n"
   ]
  },
  {
   "cell_type": "markdown",
   "metadata": {},
   "source": [
    "Extracting features from audio files is an entire subject on its own right.  A commonly used set of features are called the Mel Frequency Cepstral Coefficients (MFCCs).  These are derived from the so-called mel spectrogram which is something like a regular spectrogram, but the power and frequency are represented in log scale, which more naturally aligns with human perceptual processing.  You can run the code below to display the mel spectrogram from the audio sample.\n",
    "\n",
    "You can easily see the four notes played in the audio track.  You also see the 'harmonics' of each notes, which are other tones at integer multiples of the fundamental frequency of each note."
   ]
  },
  {
   "cell_type": "code",
   "execution_count": 30,
   "metadata": {},
   "outputs": [
    {
     "data": {
      "image/png": "[encoded data removed]",
      "text/plain": [
       "<Figure size 432x288 with 2 Axes>"
      ]
     },
     "metadata": {
      "needs_background": "light"
     },
     "output_type": "display_data"
    }
   ],
   "source": [
    "S = librosa.feature.melspectrogram(y=y, sr=sr, n_mels=128, fmax=8000)\n",
    "librosa.display.specshow(librosa.amplitude_to_db(S,ref=np.max),\n",
    "                         y_axis='mel', fmax=8000, x_axis='time')\n",
    "plt.colorbar(format='%+2.0f dB')\n",
    "plt.title('Mel spectrogram')\n",
    "plt.tight_layout()"
   ]
  },
  {
   "cell_type": "markdown",
   "metadata": {},
   "source": [
    "## Downloading the Data\n",
    "\n",
    "Using the MFCC features described above, Eric Humphrey and Juan Bellow have created a complete data set that can used for instrument classification.  Essentially, they collected a number of data files from the website above.  For each audio file, the segmented the track into notes and then extracted 120 MFCCs for each note.  The goal is to recognize the instrument from the 120 MFCCs.  The process of feature extraction is quite involved.  So, we will just use their processed data provided at:\n",
    "\n",
    "https://github.com/marl/dl4mir-tutorial/blob/master/README.md\n",
    "\n",
    "Note the password.  Load the four files into some directory, say  `instrument_dataset`.  Then, load them with the commands."
   ]
  },
  {
   "cell_type": "code",
   "execution_count": 31,
   "metadata": {},
   "outputs": [],
   "source": [
    "data_dir = 'instrument_dataset/'\n",
    "Xtr = np.load(data_dir+'uiowa_train_data.npy')\n",
    "ytr = np.load(data_dir+'uiowa_train_labels.npy')\n",
    "Xts = np.load(data_dir+'uiowa_test_data.npy')\n",
    "yts = np.load(data_dir+'uiowa_test_labels.npy')"
   ]
  },
  {
   "cell_type": "markdown",
   "metadata": {},
   "source": [
    "Looking at the data files:\n",
    "* What are the number of training and test samples?\n",
    "* What is the number of features for each sample?\n",
    "* How many classes (i.e. instruments) are there per class.\n"
   ]
  },
  {
   "cell_type": "code",
   "execution_count": 32,
   "metadata": {},
   "outputs": [
    {
     "name": "stdout",
     "output_type": "stream",
     "text": [
      "Number of training samples: 66247\n",
      "Number of test samples: 14904\n",
      "Number of Features: 120\n",
      "Number of classes (i.e. instruments) in each class: 10\n"
     ]
    }
   ],
   "source": [
    "# TODO\n",
    "print('Number of training samples:',Xtr.shape[0])\n",
    "print('Number of test samples:',Xts.shape[0])\n",
    "print('Number of Features:',Xtr.shape[1])\n",
    "print('Number of classes (i.e. instruments) in each class:',np.unique(ytr).size)"
   ]
  },
  {
   "cell_type": "markdown",
   "metadata": {},
   "source": [
    "Before continuing, you must scale the training and test data, `Xtr` and `Xts`.  Compute the mean and std deviation of each feature in `Xtr` and create a new training data set, `Xtr_scale`, by subtracting the mean and dividing by the std deviation.  Also compute a scaled test data set, `Xts_scale` using the mean and std deviation learned from the training data set."
   ]
  },
  {
   "cell_type": "code",
   "execution_count": 33,
   "metadata": {},
   "outputs": [],
   "source": [
    "# TODO Scale the training and test matrices\n",
    "\n",
    "from sklearn.preprocessing import StandardScaler,MinMaxScaler\n",
    "# TODO\n",
    "scaler = StandardScaler() #scaling the data\n",
    "\n",
    "Xtr_scale = scaler.fit_transform(Xtr)\n",
    "Xts_scale = scaler.fit_transform(Xts)\n",
    "\n",
    "\n"
   ]
  },
  {
   "cell_type": "markdown",
   "metadata": {
    "collapsed": true
   },
   "source": [
    "## Building a Neural Network Classifier\n",
    "\n",
    "Following the example in [MNIST neural network demo](./mnist_neural.ipynb), clear the keras session.  Then, create a neural network `model` with:\n",
    "* `nh=256` hidden units\n",
    "* `sigmoid` activation\n",
    "* select the input and output shapes correctly\n",
    "* print the model summary"
   ]
  },
  {
   "cell_type": "code",
   "execution_count": 34,
   "metadata": {},
   "outputs": [],
   "source": [
    "from keras.models import Model, Sequential\n",
    "from keras.layers import Dense, Activation"
   ]
  },
  {
   "cell_type": "code",
   "execution_count": 35,
   "metadata": {},
   "outputs": [],
   "source": [
    "# TODO clear session\n",
    "import tensorflow.keras.backend as KerB\n",
    "KerB.clear_session()\n"
   ]
  },
  {
   "cell_type": "code",
   "execution_count": 36,
   "metadata": {},
   "outputs": [
    {
     "name": "stdout",
     "output_type": "stream",
     "text": [
      "10\n"
     ]
    }
   ],
   "source": [
    "# TODO: construct the model\n",
    "nin = Xtr_scale.shape[1]  # dimension of input data\n",
    "nh = 256     # number of hidden units\n",
    "nout = int(np.max(ytr)+1)\n",
    "print(nout)\n",
    "model = Sequential()\n",
    "model.add(Dense(units=nh, input_shape=(nin,), activation='sigmoid', name='hidden'))\n",
    "model.add(Dense(units=nout, activation='softmax', name='output'))\n"
   ]
  },
  {
   "cell_type": "code",
   "execution_count": 37,
   "metadata": {},
   "outputs": [
    {
     "name": "stdout",
     "output_type": "stream",
     "text": [
      "Model: \"sequential\"\n",
      "_________________________________________________________________\n",
      " Layer (type)                Output Shape              Param #   \n",
      "=================================================================\n",
      " hidden (Dense)              (None, 256)               30976     \n",
      "                                                                 \n",
      " output (Dense)              (None, 10)                2570      \n",
      "                                                                 \n",
      "=================================================================\n",
      "Total params: 33,546\n",
      "Trainable params: 33,546\n",
      "Non-trainable params: 0\n",
      "_________________________________________________________________\n"
     ]
    }
   ],
   "source": [
    "# TODO:  Print the model summary\n",
    "model.summary()\n"
   ]
  },
  {
   "cell_type": "markdown",
   "metadata": {},
   "source": [
    "To keep track of the loss history and validation accuracy, we will use a *callback* function as described in [Keras callback documentation](https://keras.io/callbacks/).  A callback is a class that is passed to the `fit` method.  Complete the `LoadHistory` callback class below to save the loss and validation accuracy."
   ]
  },
  {
   "cell_type": "code",
   "execution_count": 47,
   "metadata": {},
   "outputs": [],
   "source": [
    "class LossHistory(keras.callbacks.Callback):\n",
    "    def on_train_begin(self, logs={}):\n",
    "        # TODO:  Create two empty lists, self.loss and self.val_acc\n",
    "        self.loss=[]\n",
    "        self.val_acc=[]\n",
    "        print(\"Starting training; got log keys: {}\".format(logs))\n",
    "    def on_batch_end(self, batch, logs={}):\n",
    "        # TODO:  This is called at the end of each batch.  \n",
    "        # Add the loss in logs.get('loss') to the loss list\n",
    "        loss=logs.get('loss')\n",
    "        loss.append(logs.get('accuracy'))\n",
    "        print(\"...Evaluating: start of batch {}; got log keys: {}\".format(batch, keys))\n",
    "\n",
    "    def on_epoch_end(self, epoch, logs):\n",
    "        # TODO:  This is called at the end of each epoch.  \n",
    "        # Add the test accuracy in logs.get('val_acc') to the val_acc list\n",
    "        keys = list(logs.keys())\n",
    "        keys.append(logs.get('val_accuracy'))\n",
    "        print(\"End epoch {} of training; got log keys: {}\".format(epoch, keys))\n",
    "# Create an instance of the history callback\n",
    "history_cb = LossHistory()"
   ]
  },
  {
   "cell_type": "markdown",
   "metadata": {},
   "source": [
    "Create an optimizer and compile the model.  Select the appropriate loss function and metrics.  For the optimizer, use the Adam optimizer with a learning rate of 0.001"
   ]
  },
  {
   "cell_type": "code",
   "execution_count": 48,
   "metadata": {
    "scrolled": true
   },
   "outputs": [],
   "source": [
    "# TODO\n",
    "from tensorflow.keras import optimizers\n",
    "\n",
    "opt = optimizers.Adam(learning_rate=0.001) \n",
    "model.compile(optimizer=opt,loss='sparse_categorical_crossentropy',metrics=['accuracy'])"
   ]
  },
  {
   "cell_type": "markdown",
   "metadata": {},
   "source": [
    "Fit the model for 10 epochs using the scaled data for both the training and validation.  Use the `validation_data` option to pass the test data.  Also, pass the callback class create above.  Use a batch size of 100.  Your final accuracy should be >99%."
   ]
  },
  {
   "cell_type": "code",
   "execution_count": null,
   "metadata": {
    "scrolled": true
   },
   "outputs": [
    {
     "name": "stdout",
     "output_type": "stream",
     "text": [
      "Epoch 1/10\n",
      "663/663 [==============================] - 1s 2ms/step - loss: 0.0400 - accuracy: 0.9897 - val_loss: 0.1396 - val_accuracy: 0.9450\n",
      "Epoch 2/10\n",
      "663/663 [==============================] - 1s 1ms/step - loss: 0.0282 - accuracy: 0.9925 - val_loss: 0.1712 - val_accuracy: 0.9317\n",
      "Epoch 3/10\n",
      "663/663 [==============================] - 1s 1ms/step - loss: 0.0220 - accuracy: 0.9940 - val_loss: 0.1831 - val_accuracy: 0.9312\n",
      "Epoch 4/10\n",
      "663/663 [==============================] - 1s 1ms/step - loss: 0.0182 - accuracy: 0.9949 - val_loss: 0.2225 - val_accuracy: 0.9228\n",
      "Epoch 5/10\n",
      "663/663 [==============================] - 1s 1ms/step - loss: 0.0151 - accuracy: 0.9958 - val_loss: 0.2381 - val_accuracy: 0.9215\n",
      "Epoch 6/10\n",
      "663/663 [==============================] - 1s 1ms/step - loss: 0.0131 - accuracy: 0.9966 - val_loss: 0.2622 - val_accuracy: 0.9208\n",
      "Epoch 7/10\n",
      "663/663 [==============================] - 1s 1ms/step - loss: 0.0118 - accuracy: 0.9968 - val_loss: 0.2369 - val_accuracy: 0.9271\n",
      "Epoch 8/10\n",
      "663/663 [==============================] - 1s 1ms/step - loss: 0.0102 - accuracy: 0.9976 - val_loss: 0.3111 - val_accuracy: 0.9135\n",
      "Epoch 9/10\n",
      "663/663 [==============================] - 1s 1ms/step - loss: 0.0092 - accuracy: 0.9975 - val_loss: 0.3063 - val_accuracy: 0.9163\n",
      "Epoch 10/10\n",
      "484/663 [====================>.........] - ETA: 0s - loss: 0.0083 - accuracy: 0.9978"
     ]
    }
   ],
   "source": [
    "# TODO\n",
    "\n",
    "Model = model.fit(Xtr_scale, ytr, epochs=10, batch_size=100, validation_data=(Xts_scale,yts))\n"
   ]
  },
  {
   "cell_type": "markdown",
   "metadata": {},
   "source": [
    "Plot the validation accuracy saved in the `history_cb`. This gives one accuracy value per epoch.  You should see that the validation accuracy saturates at a little higher than 99%.  After that it \"bounces around\" due to the noise in the stochastic gradient descent."
   ]
  },
  {
   "cell_type": "code",
   "execution_count": 46,
   "metadata": {},
   "outputs": [
    {
     "ename": "AttributeError",
     "evalue": "'LossHistory' object has no attribute 'history'",
     "output_type": "error",
     "traceback": [
      "\u001b[1;31m---------------------------------------------------------------------------\u001b[0m",
      "\u001b[1;31mAttributeError\u001b[0m                            Traceback (most recent call last)",
      "\u001b[1;32mC:\\Users\\MAHMOU~1\\AppData\\Local\\Temp/ipykernel_18860/3060518763.py\u001b[0m in \u001b[0;36m<module>\u001b[1;34m\u001b[0m\n\u001b[0;32m      1\u001b[0m \u001b[1;31m# TODO\u001b[0m\u001b[1;33m\u001b[0m\u001b[1;33m\u001b[0m\u001b[0m\n\u001b[0;32m      2\u001b[0m \u001b[0mepochs\u001b[0m\u001b[1;33m=\u001b[0m\u001b[0mnp\u001b[0m\u001b[1;33m.\u001b[0m\u001b[0marange\u001b[0m\u001b[1;33m(\u001b[0m\u001b[1;36m1\u001b[0m\u001b[1;33m,\u001b[0m\u001b[1;36m11\u001b[0m\u001b[1;33m)\u001b[0m\u001b[1;33m\u001b[0m\u001b[1;33m\u001b[0m\u001b[0m\n\u001b[1;32m----> 3\u001b[1;33m \u001b[0mplt\u001b[0m\u001b[1;33m.\u001b[0m\u001b[0mplot\u001b[0m\u001b[1;33m(\u001b[0m\u001b[0mepochs\u001b[0m\u001b[1;33m,\u001b[0m\u001b[0mhistory_cb\u001b[0m\u001b[1;33m.\u001b[0m\u001b[0mhistory\u001b[0m\u001b[1;33m[\u001b[0m\u001b[1;34m'val_accuracy'\u001b[0m\u001b[1;33m]\u001b[0m\u001b[1;33m)\u001b[0m\u001b[1;33m\u001b[0m\u001b[1;33m\u001b[0m\u001b[0m\n\u001b[0m\u001b[0;32m      4\u001b[0m \u001b[0mplt\u001b[0m\u001b[1;33m.\u001b[0m\u001b[0mylabel\u001b[0m\u001b[1;33m(\u001b[0m\u001b[1;34m'Validation accuracy'\u001b[0m\u001b[1;33m)\u001b[0m\u001b[1;33m\u001b[0m\u001b[1;33m\u001b[0m\u001b[0m\n\u001b[0;32m      5\u001b[0m \u001b[0mplt\u001b[0m\u001b[1;33m.\u001b[0m\u001b[0mxlabel\u001b[0m\u001b[1;33m(\u001b[0m\u001b[1;34m'Epochs'\u001b[0m\u001b[1;33m)\u001b[0m\u001b[1;33m\u001b[0m\u001b[1;33m\u001b[0m\u001b[0m\n",
      "\u001b[1;31mAttributeError\u001b[0m: 'LossHistory' object has no attribute 'history'"
     ]
    }
   ],
   "source": [
    "# TODO\n",
    "epochs=np.arange(1,11)\n",
    "plt.plot(epochs,Model.history['val_accuracy'])\n",
    "plt.ylabel('Validation accuracy')\n",
    "plt.xlabel('Epochs')\n",
    "plt.title('Validation accuracy for each Epoch')"
   ]
  },
  {
   "cell_type": "markdown",
   "metadata": {},
   "source": [
    "Plot the loss values saved in the `history_cb` class.  Use the `semilogy` plot.  There is one loss value per step.  But, plot the x-axis in epochs.  Note that the epoch in step `i` is `epoch = i*batch_size/ntr` where `batch_size` is the batch_size and `ntr` is the total number of training samples."
   ]
  },
  {
   "cell_type": "code",
   "execution_count": 42,
   "metadata": {},
   "outputs": [
    {
     "name": "stdout",
     "output_type": "stream",
     "text": [
      "[0.36530504 0.10298128 0.06094839 0.04359608 0.03288708 0.02631205\n",
      " 0.02149721 0.0182059  0.0153866  0.01337735]\n"
     ]
    },
    {
     "data": {
      "text/plain": [
       "Text(0.5, 0, 'Loss')"
      ]
     },
     "execution_count": 42,
     "metadata": {},
     "output_type": "execute_result"
    },
    {
     "data": {
      "image/png": "[encoded data removed]",
      "text/plain": [
       "<Figure size 432x288 with 1 Axes>"
      ]
     },
     "metadata": {
      "needs_background": "light"
     },
     "output_type": "display_data"
    }
   ],
   "source": [
    "# TODO\n",
    "histo=np.array(Model.history['loss'])\n",
    "print(histo)\n",
    "plt.semilogy(histo,'c')\n",
    "plt.xlabel('Loss')"
   ]
  },
  {
   "cell_type": "markdown",
   "metadata": {},
   "source": [
    "## Optimizing the Learning Rate\n",
    "\n",
    "One challenge in training neural networks is the selection of the learning rate.  Rerun the above code, trying three learning rates as shown in the vector `rates`.  For each learning rate:\n",
    "* clear the session\n",
    "* construct the network\n",
    "* select the optimizer.  Use the Adam optimizer with the appropriate learrning rate.\n",
    "* train the model\n",
    "* save the accuracy and losses"
   ]
  },
  {
   "cell_type": "code",
   "execution_count": 43,
   "metadata": {},
   "outputs": [
    {
     "name": "stdout",
     "output_type": "stream",
     "text": [
      "10\n",
      "Epoch 1/20\n",
      "663/663 [==============================] - 1s 2ms/step - loss: 0.1094 - accuracy: 0.9663 - val_loss: 0.1155 - val_accuracy: 0.9586\n",
      "Epoch 2/20\n",
      "663/663 [==============================] - 1s 2ms/step - loss: 0.0302 - accuracy: 0.9901 - val_loss: 0.1409 - val_accuracy: 0.9517\n",
      "Epoch 3/20\n",
      "663/663 [==============================] - 1s 1ms/step - loss: 0.0198 - accuracy: 0.9931 - val_loss: 0.1447 - val_accuracy: 0.9579\n",
      "Epoch 4/20\n",
      "663/663 [==============================] - 1s 1ms/step - loss: 0.0173 - accuracy: 0.9943 - val_loss: 0.2428 - val_accuracy: 0.9343\n",
      "Epoch 5/20\n",
      "663/663 [==============================] - 1s 1ms/step - loss: 0.0200 - accuracy: 0.9938 - val_loss: 0.1765 - val_accuracy: 0.9553\n",
      "Epoch 6/20\n",
      "663/663 [==============================] - 1s 1ms/step - loss: 0.0172 - accuracy: 0.9944 - val_loss: 0.2555 - val_accuracy: 0.9367\n",
      "Epoch 7/20\n",
      "663/663 [==============================] - 1s 1ms/step - loss: 0.0118 - accuracy: 0.9961 - val_loss: 0.2404 - val_accuracy: 0.9448\n",
      "Epoch 8/20\n",
      "663/663 [==============================] - 1s 1ms/step - loss: 0.0117 - accuracy: 0.9964 - val_loss: 0.2523 - val_accuracy: 0.9416\n",
      "Epoch 9/20\n",
      "663/663 [==============================] - 1s 1ms/step - loss: 0.0114 - accuracy: 0.9966 - val_loss: 0.6496 - val_accuracy: 0.8881\n",
      "Epoch 10/20\n",
      "663/663 [==============================] - 1s 1ms/step - loss: 0.0129 - accuracy: 0.9961 - val_loss: 0.6715 - val_accuracy: 0.8887\n",
      "Epoch 11/20\n",
      "663/663 [==============================] - 1s 1ms/step - loss: 0.0090 - accuracy: 0.9970 - val_loss: 0.6990 - val_accuracy: 0.8853\n",
      "Epoch 12/20\n",
      "663/663 [==============================] - 1s 1ms/step - loss: 0.0090 - accuracy: 0.9974 - val_loss: 0.8982 - val_accuracy: 0.8762\n",
      "Epoch 13/20\n",
      "663/663 [==============================] - 1s 1ms/step - loss: 0.0117 - accuracy: 0.9967 - val_loss: 0.6085 - val_accuracy: 0.9090\n",
      "Epoch 14/20\n",
      "663/663 [==============================] - 1s 1ms/step - loss: 0.0122 - accuracy: 0.9965 - val_loss: 0.6614 - val_accuracy: 0.8916\n",
      "Epoch 15/20\n",
      "663/663 [==============================] - 1s 1ms/step - loss: 0.0109 - accuracy: 0.9968 - val_loss: 0.9091 - val_accuracy: 0.8879\n",
      "Epoch 16/20\n",
      "663/663 [==============================] - 1s 1ms/step - loss: 0.0083 - accuracy: 0.9973 - val_loss: 0.8834 - val_accuracy: 0.8782\n",
      "Epoch 17/20\n",
      "663/663 [==============================] - 1s 1ms/step - loss: 0.0092 - accuracy: 0.9974 - val_loss: 0.7757 - val_accuracy: 0.8941\n",
      "Epoch 18/20\n",
      "663/663 [==============================] - 1s 1ms/step - loss: 0.0114 - accuracy: 0.9966 - val_loss: 0.9223 - val_accuracy: 0.8835\n",
      "Epoch 19/20\n",
      "663/663 [==============================] - 1s 1ms/step - loss: 0.0070 - accuracy: 0.9978 - val_loss: 1.1629 - val_accuracy: 0.8716\n",
      "Epoch 20/20\n",
      "663/663 [==============================] - 1s 1ms/step - loss: 0.0085 - accuracy: 0.9975 - val_loss: 1.1196 - val_accuracy: 0.8690\n",
      "10\n",
      "Epoch 1/20\n",
      "663/663 [==============================] - 1s 2ms/step - loss: 0.3593 - accuracy: 0.9029 - val_loss: 0.1839 - val_accuracy: 0.9525\n",
      "Epoch 2/20\n",
      "663/663 [==============================] - 1s 1ms/step - loss: 0.1004 - accuracy: 0.9758 - val_loss: 0.1371 - val_accuracy: 0.9537\n",
      "Epoch 3/20\n",
      "663/663 [==============================] - 1s 1ms/step - loss: 0.0594 - accuracy: 0.9856 - val_loss: 0.1298 - val_accuracy: 0.9527\n",
      "Epoch 4/20\n",
      "663/663 [==============================] - 1s 1ms/step - loss: 0.0420 - accuracy: 0.9894 - val_loss: 0.1679 - val_accuracy: 0.9292\n",
      "Epoch 5/20\n",
      "663/663 [==============================] - 1s 1ms/step - loss: 0.0322 - accuracy: 0.9916 - val_loss: 0.1434 - val_accuracy: 0.9436\n",
      "Epoch 6/20\n",
      "663/663 [==============================] - 1s 1ms/step - loss: 0.0253 - accuracy: 0.9933 - val_loss: 0.1648 - val_accuracy: 0.9338\n",
      "Epoch 7/20\n",
      "663/663 [==============================] - 1s 1ms/step - loss: 0.0206 - accuracy: 0.9950 - val_loss: 0.1659 - val_accuracy: 0.9353\n",
      "Epoch 8/20\n",
      "663/663 [==============================] - 1s 1ms/step - loss: 0.0173 - accuracy: 0.9956 - val_loss: 0.2183 - val_accuracy: 0.9238\n",
      "Epoch 9/20\n",
      "663/663 [==============================] - 1s 1ms/step - loss: 0.0149 - accuracy: 0.9959 - val_loss: 0.1531 - val_accuracy: 0.9450\n",
      "Epoch 10/20\n",
      "663/663 [==============================] - 1s 1ms/step - loss: 0.0128 - accuracy: 0.9967 - val_loss: 0.1816 - val_accuracy: 0.9376\n",
      "Epoch 11/20\n",
      "663/663 [==============================] - 1s 1ms/step - loss: 0.0116 - accuracy: 0.9969 - val_loss: 0.1467 - val_accuracy: 0.9516\n",
      "Epoch 12/20\n",
      "663/663 [==============================] - 1s 1ms/step - loss: 0.0099 - accuracy: 0.9976 - val_loss: 0.1900 - val_accuracy: 0.9376\n",
      "Epoch 13/20\n",
      "663/663 [==============================] - 1s 1ms/step - loss: 0.0091 - accuracy: 0.9978 - val_loss: 0.2391 - val_accuracy: 0.9284\n",
      "Epoch 14/20\n",
      "663/663 [==============================] - 1s 1ms/step - loss: 0.0079 - accuracy: 0.9981 - val_loss: 0.2025 - val_accuracy: 0.9383\n",
      "Epoch 15/20\n",
      "663/663 [==============================] - 1s 1ms/step - loss: 0.0073 - accuracy: 0.9981 - val_loss: 0.3371 - val_accuracy: 0.9134\n",
      "Epoch 16/20\n",
      "663/663 [==============================] - 1s 1ms/step - loss: 0.0068 - accuracy: 0.9982 - val_loss: 0.3497 - val_accuracy: 0.9137\n",
      "Epoch 17/20\n",
      "663/663 [==============================] - 1s 1ms/step - loss: 0.0063 - accuracy: 0.9984 - val_loss: 0.3326 - val_accuracy: 0.9157\n",
      "Epoch 18/20\n",
      "663/663 [==============================] - 1s 1ms/step - loss: 0.0058 - accuracy: 0.9985 - val_loss: 0.2037 - val_accuracy: 0.9432\n",
      "Epoch 19/20\n",
      "663/663 [==============================] - 1s 1ms/step - loss: 0.0054 - accuracy: 0.9986 - val_loss: 0.3895 - val_accuracy: 0.9123\n",
      "Epoch 20/20\n",
      "663/663 [==============================] - 1s 1ms/step - loss: 0.0052 - accuracy: 0.9986 - val_loss: 0.4156 - val_accuracy: 0.9103\n",
      "10\n",
      "Epoch 1/20\n",
      "663/663 [==============================] - 1s 2ms/step - loss: 1.1545 - accuracy: 0.6371 - val_loss: 0.8147 - val_accuracy: 0.7064\n",
      "Epoch 2/20\n",
      "663/663 [==============================] - 1s 1ms/step - loss: 0.5617 - accuracy: 0.8413 - val_loss: 0.5315 - val_accuracy: 0.8606\n",
      "Epoch 3/20\n",
      "663/663 [==============================] - 1s 1ms/step - loss: 0.3896 - accuracy: 0.9072 - val_loss: 0.4010 - val_accuracy: 0.9043\n",
      "Epoch 4/20\n",
      "663/663 [==============================] - 1s 1ms/step - loss: 0.3014 - accuracy: 0.9322 - val_loss: 0.3205 - val_accuracy: 0.9273\n",
      "Epoch 5/20\n",
      "663/663 [==============================] - 1s 1ms/step - loss: 0.2454 - accuracy: 0.9455 - val_loss: 0.2664 - val_accuracy: 0.9406\n",
      "Epoch 6/20\n",
      "663/663 [==============================] - 1s 1ms/step - loss: 0.2052 - accuracy: 0.9536 - val_loss: 0.2265 - val_accuracy: 0.9497\n",
      "Epoch 7/20\n",
      "663/663 [==============================] - 1s 1ms/step - loss: 0.1744 - accuracy: 0.9602 - val_loss: 0.2027 - val_accuracy: 0.9518\n",
      "Epoch 8/20\n",
      "663/663 [==============================] - 1s 1ms/step - loss: 0.1501 - accuracy: 0.9648 - val_loss: 0.1863 - val_accuracy: 0.9514\n",
      "Epoch 9/20\n",
      "663/663 [==============================] - 1s 1ms/step - loss: 0.1303 - accuracy: 0.9696 - val_loss: 0.1704 - val_accuracy: 0.9524\n",
      "Epoch 10/20\n",
      "663/663 [==============================] - 1s 1ms/step - loss: 0.1144 - accuracy: 0.9731 - val_loss: 0.1583 - val_accuracy: 0.9540\n",
      "Epoch 11/20\n",
      "663/663 [==============================] - 1s 1ms/step - loss: 0.1014 - accuracy: 0.9761 - val_loss: 0.1507 - val_accuracy: 0.9535\n",
      "Epoch 12/20\n",
      "663/663 [==============================] - 1s 1ms/step - loss: 0.0907 - accuracy: 0.9786 - val_loss: 0.1502 - val_accuracy: 0.9520\n",
      "Epoch 13/20\n",
      "663/663 [==============================] - 1s 1ms/step - loss: 0.0818 - accuracy: 0.9809 - val_loss: 0.1401 - val_accuracy: 0.9544\n",
      "Epoch 14/20\n",
      "663/663 [==============================] - 1s 1ms/step - loss: 0.0744 - accuracy: 0.9828 - val_loss: 0.1387 - val_accuracy: 0.9532\n",
      "Epoch 15/20\n",
      "663/663 [==============================] - 1s 1ms/step - loss: 0.0681 - accuracy: 0.9843 - val_loss: 0.1328 - val_accuracy: 0.9541\n",
      "Epoch 16/20\n",
      "663/663 [==============================] - 1s 1ms/step - loss: 0.0628 - accuracy: 0.9853 - val_loss: 0.1295 - val_accuracy: 0.9554\n",
      "Epoch 17/20\n",
      "663/663 [==============================] - 1s 1ms/step - loss: 0.0582 - accuracy: 0.9863 - val_loss: 0.1355 - val_accuracy: 0.9516\n",
      "Epoch 18/20\n",
      "663/663 [==============================] - 1s 1ms/step - loss: 0.0542 - accuracy: 0.9871 - val_loss: 0.1289 - val_accuracy: 0.9541\n",
      "Epoch 19/20\n",
      "663/663 [==============================] - 1s 1ms/step - loss: 0.0508 - accuracy: 0.9877 - val_loss: 0.1324 - val_accuracy: 0.9516\n",
      "Epoch 20/20\n",
      "663/663 [==============================] - 1s 1ms/step - loss: 0.0477 - accuracy: 0.9884 - val_loss: 0.1400 - val_accuracy: 0.9473\n"
     ]
    }
   ],
   "source": [
    "rates = [0.01,0.001,0.0001]\n",
    "batch_size = 100\n",
    "loss_hist = []\n",
    "val_acc_hist = []\n",
    "\n",
    "# TODO\n",
    "for lr in rates:\n",
    "    KerB.clear_session()\n",
    "    nin = Xtr_scale.shape[1]  # dimension of input data\n",
    "    nh = 256     # number of hidden units\n",
    "    nout = int(np.max(ytr)+1)\n",
    "    print(nout)\n",
    "    model = Sequential()\n",
    "    model.add(Dense(units=nh, input_shape=(nin,), activation='sigmoid', name='hidden'))\n",
    "    model.add(Dense(units=nout, activation='softmax', name='output'))\n",
    "    opt = optimizers.Adam(lr) # beta_1=0.9, beta_2=0.999, epsilon=1e-08, decay=0.0)\n",
    "    model.compile(optimizer=opt,loss='sparse_categorical_crossentropy',metrics=['accuracy'])\n",
    "    hist = model.fit(Xtr_scale, ytr, epochs=20,batch_size=100, validation_data=(Xts_scale,yts))\n",
    "    loss_hist.append(hist.history['loss'])\n",
    "    val_acc_hist.append(hist.history['val_accuracy'])"
   ]
  },
  {
   "cell_type": "markdown",
   "metadata": {},
   "source": [
    "Plot the loss funciton vs. the epoch number for all three learning rates on one graph.  You should see that the lower learning rates are more stable, but converge slower."
   ]
  },
  {
   "cell_type": "code",
   "execution_count": 44,
   "metadata": {},
   "outputs": [],
   "source": [
    "# TODO\n",
    "loss_hist = np.array(loss_hist)\n"
   ]
  },
  {
   "cell_type": "code",
   "execution_count": 45,
   "metadata": {},
   "outputs": [
    {
     "data": {
      "text/plain": [
       "Text(0.5, 1.0, 'Loss Function for each Epoch')"
      ]
     },
     "execution_count": 45,
     "metadata": {},
     "output_type": "execute_result"
    },
    {
     "data": {
      "image/png": "[encoded data removed]",
      "text/plain": [
       "<Figure size 432x288 with 1 Axes>"
      ]
     },
     "metadata": {
      "needs_background": "light"
     },
     "output_type": "display_data"
    }
   ],
   "source": [
    "#todo\n",
    "epochs=np.arange(1,21)\n",
    "plt.plot( epochs,loss_hist[0, :],label='rate=0.01')\n",
    "plt.plot(epochs,loss_hist[1, :],label='rate=0.001')\n",
    "plt.plot(epochs,loss_hist[2, :],label='rate=0.0001')\n",
    "plt.legend() \n",
    "plt.xlim(0,21)\n",
    "plt.xlabel('epochs')\n",
    "plt.ylabel('loss function')\n",
    "plt.title('Loss Function for each Epoch')"
   ]
  },
  {
   "cell_type": "code",
   "execution_count": null,
   "metadata": {},
   "outputs": [],
   "source": []
  }
 ],
 "metadata": {
  "anaconda-cloud": {},
  "kernelspec": {
   "display_name": "Python 3 (ipykernel)",
   "language": "python",
   "name": "python3"
  },
  "language_info": {
   "codemirror_mode": {
    "name": "ipython",
    "version": 3
   },
   "file_extension": ".py",
   "mimetype": "text/x-python",
   "name": "python",
   "nbconvert_exporter": "python",
   "pygments_lexer": "ipython3",
   "version": "3.9.7"
  },
  "nteract": {
   "version": "0.28.0"
  }
 },
 "nbformat": 4,
 "nbformat_minor": 1
}
